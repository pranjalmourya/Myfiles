{
 "cells": [
  {
   "cell_type": "code",
   "execution_count": 6,
   "id": "fc13ad5a-d281-4f85-9f83-b85bc9a66880",
   "metadata": {},
   "outputs": [
    {
     "name": "stdout",
     "output_type": "stream",
     "text": [
      "<class 'dict'>\n",
      "{'Firstname': 'Pranjal', 'Lastname': 'Mourya', 'Marks': [80, 45, 50, 23]}\n"
     ]
    }
   ],
   "source": [
    "Dist = {'Firstname' : 'Pranjal','Lastname' : 'Mourya','Marks':[80,45,50,23]}\n",
    "print(type(Dist))\n",
    "print(Dist)"
   ]
  },
  {
   "cell_type": "code",
   "execution_count": 5,
   "id": "b9031197-81b1-46ac-bd40-e1be31632242",
   "metadata": {},
   "outputs": [
    {
     "name": "stdout",
     "output_type": "stream",
     "text": [
      "{}\n"
     ]
    }
   ],
   "source": [
    "Dist.clear()\n",
    "print(Dist) #Removes all items from the dictionary"
   ]
  },
  {
   "cell_type": "code",
   "execution_count": 66,
   "id": "e038e878-4e04-4d34-937a-11954555a0e1",
   "metadata": {},
   "outputs": [
    {
     "name": "stdout",
     "output_type": "stream",
     "text": [
      "{'Firstname': 'Pranjal', 'Lastname': 'Mourya', 'Marks': [80, 45, 50, 23]}\n"
     ]
    }
   ],
   "source": [
    "New_Dist = Dist.copy()\n",
    "print(New_Dist) #Returns a shallow copy of the dictionary"
   ]
  },
  {
   "cell_type": "code",
   "execution_count": 10,
   "id": "04cbb19c-07ff-4b07-b7d6-a4e8d6ff7a1d",
   "metadata": {},
   "outputs": [
    {
     "name": "stdout",
     "output_type": "stream",
     "text": [
      "{'a': 1, 'b': 1, 'c': 1}\n"
     ]
    }
   ],
   "source": [
    "Create_new_Dict = dict.fromkeys(['a','b','c'],1)\n",
    "#Creates a new dictionary from keys in seq with a default value\n",
    "print(Create_new_Dict)"
   ]
  },
  {
   "cell_type": "code",
   "execution_count": 16,
   "id": "52364ada-8d2b-4c21-8504-5dfddf3d7297",
   "metadata": {},
   "outputs": [
    {
     "name": "stdout",
     "output_type": "stream",
     "text": [
      "{'a': None, 'b': None, 'c': None}\n"
     ]
    }
   ],
   "source": [
    "Create_new_Dict_withoutDefault = dict.fromkeys({'a': 2 ,'b':'f','c':'%'})\n",
    "#Creates a new dictionary from keys in seq without a default value\n",
    "print(Create_new_Dict_withoutDefault)"
   ]
  },
  {
   "cell_type": "code",
   "execution_count": 28,
   "id": "ce8b1d15-d184-4be8-ad17-c356e529d0fb",
   "metadata": {},
   "outputs": [
    {
     "data": {
      "text/plain": [
       "[80, 45, 50, 23]"
      ]
     },
     "execution_count": 28,
     "metadata": {},
     "output_type": "execute_result"
    }
   ],
   "source": [
    "New_Dist.get('Marks',1) #Returns the value for key, or default if key not found"
   ]
  },
  {
   "cell_type": "code",
   "execution_count": 31,
   "id": "e985680b-fa1d-4a16-9fce-f2aff460ae7d",
   "metadata": {},
   "outputs": [
    {
     "data": {
      "text/plain": [
       "dict_items([('Firstname', 'Pranjal'), ('Lastname', 'Mourya'), ('Marks', [80, 45, 50, 23])])"
      ]
     },
     "execution_count": 31,
     "metadata": {},
     "output_type": "execute_result"
    }
   ],
   "source": [
    "New_Dist.items() #Returns a view of all (key, value) pairs"
   ]
  },
  {
   "cell_type": "code",
   "execution_count": 33,
   "id": "641e88b8-da5d-4a0f-a8fb-851c6e9bc05c",
   "metadata": {},
   "outputs": [
    {
     "data": {
      "text/plain": [
       "dict_keys(['Firstname', 'Lastname', 'Marks'])"
      ]
     },
     "execution_count": 33,
     "metadata": {},
     "output_type": "execute_result"
    }
   ],
   "source": [
    "New_Dist.keys() #Returns a view of all keys"
   ]
  },
  {
   "cell_type": "code",
   "execution_count": 35,
   "id": "8f9544d5-f3ec-4dbf-bf49-31880a867bff",
   "metadata": {},
   "outputs": [
    {
     "data": {
      "text/plain": [
       "dict_values(['Pranjal', 'Mourya', [80, 45, 50, 23]])"
      ]
     },
     "execution_count": 35,
     "metadata": {},
     "output_type": "execute_result"
    }
   ],
   "source": [
    "New_Dist.values() #Returns a view of all keys"
   ]
  },
  {
   "cell_type": "code",
   "execution_count": 49,
   "id": "dc61b67b-1f35-4a4e-86a1-9c0151e90708",
   "metadata": {},
   "outputs": [
    {
     "data": {
      "text/plain": [
       "'Pranjal'"
      ]
     },
     "execution_count": 49,
     "metadata": {},
     "output_type": "execute_result"
    }
   ],
   "source": [
    "New_Dist.pop('Firstname') #Removes the item with the given key and returns its value"
   ]
  },
  {
   "cell_type": "code",
   "execution_count": 55,
   "id": "b5c8da7e-2001-43ca-a268-94aa681ea099",
   "metadata": {},
   "outputs": [
    {
     "name": "stdout",
     "output_type": "stream",
     "text": [
      "{'Firstname': 'Pranjal', 'Lastname': 'Mourya'}\n"
     ]
    }
   ],
   "source": [
    "New_Dist.popitem() #Removes the item with the given key and returns its value\n",
    "print(New_Dist)"
   ]
  },
  {
   "cell_type": "code",
   "execution_count": 47,
   "id": "fef68a6e-3cf1-40a6-976b-f3099396529d",
   "metadata": {},
   "outputs": [
    {
     "name": "stdout",
     "output_type": "stream",
     "text": [
      "{'Lastname': 'Mourya', 'Marks': [80, 45, 50, 23]}\n"
     ]
    }
   ],
   "source": [
    "print(New_Dist)"
   ]
  },
  {
   "cell_type": "code",
   "execution_count": 67,
   "id": "6bb81a31-0a62-4c95-88a7-d3dc09d943c0",
   "metadata": {},
   "outputs": [
    {
     "name": "stdout",
     "output_type": "stream",
     "text": [
      "{'Firstname': 'Pranjal', 'Lastname': 'Mourya', 'Marks': [80, 45, 50, 23], 'Age': 30}\n"
     ]
    }
   ],
   "source": [
    "New_Dist.update({'Age':30})\n",
    "print(New_Dist)"
   ]
  },
  {
   "cell_type": "code",
   "execution_count": 69,
   "id": "dd07f7bf-fc80-4e10-b108-532e2c3cee05",
   "metadata": {},
   "outputs": [
    {
     "name": "stdout",
     "output_type": "stream",
     "text": [
      "{'Firstname': 'Pranjal', 'Lastname': 'Mourya', 'Marks': [80, 45, 50, 23], 'Age': 30, 'City': 'Delhi'}\n"
     ]
    }
   ],
   "source": [
    "New_Dist.setdefault('City','Delhi')\n",
    "print(New_Dist)\n",
    "\n",
    "#New_Dist.setdefault('City', 'Delhi')\n",
    "\n",
    "#print(New_Dist)"
   ]
  },
  {
   "cell_type": "code",
   "execution_count": 80,
   "id": "d7434a27-6cdb-4b1c-8ae3-2155ca90b70b",
   "metadata": {},
   "outputs": [
    {
     "name": "stdout",
     "output_type": "stream",
     "text": [
      "Firstname  :  Pranjal\n",
      "Lastname  :  Mourya\n",
      "Marks  :  [80, 45, 50, 23]\n",
      "Age  :  30\n",
      "City  :  Delhi\n"
     ]
    }
   ],
   "source": [
    "for i in New_Dist:\n",
    " print(i,' : ',New_Dist[i])\n"
   ]
  },
  {
   "cell_type": "code",
   "execution_count": null,
   "id": "2040e15e-f21f-4c87-bd86-c50267b349a3",
   "metadata": {},
   "outputs": [],
   "source": []
  }
 ],
 "metadata": {
  "kernelspec": {
   "display_name": "Python 3 (ipykernel)",
   "language": "python",
   "name": "python3"
  },
  "language_info": {
   "codemirror_mode": {
    "name": "ipython",
    "version": 3
   },
   "file_extension": ".py",
   "mimetype": "text/x-python",
   "name": "python",
   "nbconvert_exporter": "python",
   "pygments_lexer": "ipython3",
   "version": "3.13.5"
  }
 },
 "nbformat": 4,
 "nbformat_minor": 5
}
