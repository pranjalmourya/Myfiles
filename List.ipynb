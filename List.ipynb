{
 "cells": [
  {
   "cell_type": "code",
   "execution_count": 69,
   "id": "dccbdfd8-88c9-45b4-af12-d1f944e9c6f1",
   "metadata": {},
   "outputs": [],
   "source": [
    "import os"
   ]
  },
  {
   "cell_type": "code",
   "execution_count": 70,
   "id": "1d5791b4-d410-4a45-bf35-9a929459757a",
   "metadata": {},
   "outputs": [
    {
     "name": "stdout",
     "output_type": "stream",
     "text": [
      "C:\\Users\\ad\n"
     ]
    }
   ],
   "source": [
    "f = os.getcwd()\n",
    "print(f)"
   ]
  },
  {
   "cell_type": "code",
   "execution_count": 8,
   "id": "ff326183-d543-4760-813d-176bda851516",
   "metadata": {},
   "outputs": [
    {
     "name": "stdin",
     "output_type": "stream",
     "text": [
      "enter any alphabed hello pranjal\n"
     ]
    },
    {
     "name": "stdout",
     "output_type": "stream",
     "text": [
      "hello pranjal\n"
     ]
    }
   ],
   "source": [
    "var = input('enter any alphabed')\n",
    "print(var)"
   ]
  },
  {
   "cell_type": "code",
   "execution_count": 9,
   "id": "c35e70e2-023f-4768-8a08-b9fb90ed3904",
   "metadata": {},
   "outputs": [
    {
     "name": "stdout",
     "output_type": "stream",
     "text": [
      "ClouyML\n"
     ]
    }
   ],
   "source": [
    "str1 = 'CloudyML'\n",
    "Str2 = str1.replace('d','')\n",
    "print(Str2)"
   ]
  },
  {
   "cell_type": "code",
   "execution_count": 10,
   "id": "d9733d6c-1fdf-4168-b108-a35367919fe7",
   "metadata": {},
   "outputs": [],
   "source": [
    "Scores = [80,50,42,75]"
   ]
  },
  {
   "cell_type": "code",
   "execution_count": 12,
   "id": "8fb1ee5c-b844-4737-8856-1085c4bf094e",
   "metadata": {},
   "outputs": [
    {
     "name": "stdout",
     "output_type": "stream",
     "text": [
      "[80, 50, 42, 75]\n",
      "<class 'list'>\n"
     ]
    }
   ],
   "source": [
    "print(Scores)\n",
    "print(type(Scores))"
   ]
  },
  {
   "cell_type": "code",
   "execution_count": 13,
   "id": "8eb01f75-e21a-4bbc-9fc8-29aaf2bc132d",
   "metadata": {},
   "outputs": [
    {
     "name": "stdout",
     "output_type": "stream",
     "text": [
      "[85, 50, 42, 75]\n"
     ]
    }
   ],
   "source": [
    "Scores[0] = 85\n",
    "print(Scores)"
   ]
  },
  {
   "cell_type": "code",
   "execution_count": 14,
   "id": "a29ce0ab-4bb4-4ea7-8220-c544397a16a9",
   "metadata": {},
   "outputs": [
    {
     "name": "stdout",
     "output_type": "stream",
     "text": [
      "[85, 50, 42, 75, 56]\n"
     ]
    }
   ],
   "source": [
    "Scores.append(56)\n",
    "print(Scores)"
   ]
  },
  {
   "cell_type": "code",
   "execution_count": 16,
   "id": "c2e561bd-9993-4d4c-8b9d-39329a886b5d",
   "metadata": {},
   "outputs": [
    {
     "name": "stdout",
     "output_type": "stream",
     "text": [
      "[85, 50, 75, 56]\n"
     ]
    }
   ],
   "source": [
    "Scores.remove(Scores[2])\n",
    "print(Scores)"
   ]
  },
  {
   "cell_type": "code",
   "execution_count": 17,
   "id": "d76dc4b7-87f2-454c-a096-86ac132d857b",
   "metadata": {},
   "outputs": [
    {
     "name": "stdout",
     "output_type": "stream",
     "text": [
      "<class 'tuple'>\n"
     ]
    }
   ],
   "source": [
    "Tuple = (3,5,7,8,'prajnal')\n",
    "print(type(Tuple))"
   ]
  },
  {
   "cell_type": "code",
   "execution_count": 23,
   "id": "87e0ad77-237b-4135-bfc9-7d9799a7878f",
   "metadata": {},
   "outputs": [
    {
     "name": "stdout",
     "output_type": "stream",
     "text": [
      "<class 'set'>\n",
      "{1, 2, 3, 5, 6, 7, 8}\n"
     ]
    }
   ],
   "source": [
    "Sets = {1,2,8,3,5,5,6,7}\n",
    "print(type(Sets))\n",
    "print(Sets)"
   ]
  },
  {
   "cell_type": "code",
   "execution_count": 24,
   "id": "614985c7-73f3-4045-a80a-ff80f354ea3d",
   "metadata": {},
   "outputs": [
    {
     "name": "stdout",
     "output_type": "stream",
     "text": [
      "{1, 2, 3, 5, 6, 7, 8, 55}\n"
     ]
    }
   ],
   "source": [
    "Sets.add(55)\n",
    "print(Sets)"
   ]
  },
  {
   "cell_type": "code",
   "execution_count": 31,
   "id": "d3973a08-88c4-49dd-9829-d566ea200008",
   "metadata": {},
   "outputs": [
    {
     "name": "stdout",
     "output_type": "stream",
     "text": [
      "[3, 1, 4, 1, 5, 9]\n"
     ]
    }
   ],
   "source": [
    "My_list = [3,1,4,1,5,9]\n",
    "print(My_list)"
   ]
  },
  {
   "cell_type": "code",
   "execution_count": 15,
   "id": "9a915d12-2020-465f-befa-d086ccd8ae63",
   "metadata": {},
   "outputs": [
    {
     "name": "stdout",
     "output_type": "stream",
     "text": [
      "[3, 1, 4, 1, 5, 9, 10]\n"
     ]
    }
   ],
   "source": [
    "My_list.append(10)\n",
    "print(My_list)"
   ]
  },
  {
   "cell_type": "code",
   "execution_count": 22,
   "id": "11c8b621-2493-4228-9944-138679d4cf71",
   "metadata": {},
   "outputs": [
    {
     "name": "stdout",
     "output_type": "stream",
     "text": [
      "[3, 1, 4, 9, 1, 5, 9]\n"
     ]
    }
   ],
   "source": [
    "My_list = [3,1,4,9,1,5,9]\n",
    "Extand = [8,7]\n",
    "print(My_list)"
   ]
  },
  {
   "cell_type": "code",
   "execution_count": 3,
   "id": "b612e64f-d8b5-4066-ab37-67e41b075f72",
   "metadata": {},
   "outputs": [
    {
     "name": "stdout",
     "output_type": "stream",
     "text": [
      "[3, 1, 4, 1, 5, 9, 8, 7]\n"
     ]
    }
   ],
   "source": [
    "My_list.extend(Extand)\n",
    "print(My_list) #Adds all elements from another list (or iterable) to the end"
   ]
  },
  {
   "cell_type": "code",
   "execution_count": 24,
   "id": "ce82c3f8-94b9-4bc8-b5a0-2f7d72d6c11a",
   "metadata": {},
   "outputs": [
    {
     "name": "stdout",
     "output_type": "stream",
     "text": [
      "[3, 1, 99, 4, 9, 1, 5, 9]\n"
     ]
    }
   ],
   "source": [
    "My_list.insert(2,99)\n",
    "print(My_list) #Inserts element x at position i"
   ]
  },
  {
   "cell_type": "code",
   "execution_count": 21,
   "id": "2f72c154-1b09-4762-b8ed-ead981f60c49",
   "metadata": {},
   "outputs": [
    {
     "name": "stdout",
     "output_type": "stream",
     "text": [
      "[3, 99, 4, 1, 5, 9]\n"
     ]
    }
   ],
   "source": [
    "My_list.remove(1)\n",
    "print(My_list)  #Removes the first occurrence of value x"
   ]
  },
  {
   "cell_type": "code",
   "execution_count": 32,
   "id": "c0dd1e50-a24b-4158-aa10-2cc365da846a",
   "metadata": {},
   "outputs": [
    {
     "name": "stdout",
     "output_type": "stream",
     "text": [
      "[3, 1, 4, 1, 5]\n"
     ]
    }
   ],
   "source": [
    "My_list.pop()\n",
    "print(My_list) #Removes and returns element at index i (last element if not given)"
   ]
  },
  {
   "cell_type": "code",
   "execution_count": 28,
   "id": "7451ac4a-6a1c-4453-8f33-570c9fc78fc7",
   "metadata": {},
   "outputs": [
    {
     "name": "stdout",
     "output_type": "stream",
     "text": [
      "[3, 1, 99, 9, 1, 5]\n"
     ]
    }
   ],
   "source": [
    "My_list.pop(3)\n",
    "print(My_list) #Removes and returns element at index i (last element if not given)"
   ]
  },
  {
   "cell_type": "code",
   "execution_count": 29,
   "id": "c5b48623-6c2b-4b33-93c7-d1d91f9f83ef",
   "metadata": {},
   "outputs": [
    {
     "name": "stdout",
     "output_type": "stream",
     "text": [
      "[]\n"
     ]
    }
   ],
   "source": [
    "My_list.clear()\n",
    "print(My_list) #Removes all elements from the list"
   ]
  },
  {
   "cell_type": "code",
   "execution_count": 35,
   "id": "f0622c86-5fda-4155-81c2-f86ccab1b636",
   "metadata": {},
   "outputs": [
    {
     "data": {
      "text/plain": [
       "2"
      ]
     },
     "execution_count": 35,
     "metadata": {},
     "output_type": "execute_result"
    }
   ],
   "source": [
    "My_list.count(1) #Returns how many times x appears in the list"
   ]
  },
  {
   "cell_type": "code",
   "execution_count": 37,
   "id": "594a3dfc-fd30-416c-ae01-63b1feaba3b6",
   "metadata": {},
   "outputs": [
    {
     "name": "stdout",
     "output_type": "stream",
     "text": [
      "[3, 1, 4, 1, 5]\n"
     ]
    }
   ],
   "source": [
    "My_list.reverse()\n",
    "print(My_list) #Reverses the elements of the list in place"
   ]
  },
  {
   "cell_type": "code",
   "execution_count": 41,
   "id": "2758c068-4773-4d11-98a7-a2b41a043042",
   "metadata": {},
   "outputs": [
    {
     "name": "stdout",
     "output_type": "stream",
     "text": [
      "[3, 1, 4, 1, 5]\n"
     ]
    }
   ],
   "source": [
    "My_newlist = My_list.copy()\n",
    "print(My_newlist)  #Returns a shallow copy of the list"
   ]
  },
  {
   "cell_type": "code",
   "execution_count": 43,
   "id": "f4950af2-60cc-4e12-b6d0-bca3c4abf698",
   "metadata": {},
   "outputs": [
    {
     "name": "stdout",
     "output_type": "stream",
     "text": [
      "14\n"
     ]
    }
   ],
   "source": [
    "Sumvalue = sum(My_newlist)\n",
    "print(Sumvalue) #Returns number of elements"
   ]
  },
  {
   "cell_type": "code",
   "execution_count": 45,
   "id": "5ed77eb8-3949-44c1-adfc-ec4ce0506ab8",
   "metadata": {},
   "outputs": [
    {
     "name": "stdout",
     "output_type": "stream",
     "text": [
      "5\n"
     ]
    }
   ],
   "source": [
    "lenvalue = len(My_newlist)\n",
    "print(lenvalue) #Returns number of elements"
   ]
  },
  {
   "cell_type": "code",
   "execution_count": 46,
   "id": "9f01fbda-b314-4e25-85c0-b94b22e90331",
   "metadata": {},
   "outputs": [
    {
     "name": "stdout",
     "output_type": "stream",
     "text": [
      "1\n"
     ]
    }
   ],
   "source": [
    "minvalue = min(My_newlist)\n",
    "print(minvalue) #Returns smallest element"
   ]
  },
  {
   "cell_type": "code",
   "execution_count": 47,
   "id": "4d2c1c52-4a2c-4cf8-8415-85ae7ff8da83",
   "metadata": {},
   "outputs": [
    {
     "name": "stdout",
     "output_type": "stream",
     "text": [
      "[1, 1, 3, 4, 5]\n"
     ]
    }
   ],
   "source": [
    "Sorted = sorted(My_newlist)\n",
    "print(Sorted)"
   ]
  },
  {
   "cell_type": "code",
   "execution_count": 49,
   "id": "798ca0dc-a289-4e33-aa80-49fa853d5c0c",
   "metadata": {},
   "outputs": [
    {
     "name": "stdout",
     "output_type": "stream",
     "text": [
      "True\n"
     ]
    }
   ],
   "source": [
    "Anylist = any(My_newlist)\n",
    "print(Anylist) #Returns True if any element is True"
   ]
  },
  {
   "cell_type": "code",
   "execution_count": 50,
   "id": "7e1e3286-7c0c-4e0b-9ae5-87f4f5f3dd53",
   "metadata": {},
   "outputs": [
    {
     "name": "stdout",
     "output_type": "stream",
     "text": [
      "True\n"
     ]
    }
   ],
   "source": [
    "Alllist = all(My_newlist)\n",
    "print(Alllist) #Returns True if all element is True"
   ]
  },
  {
   "cell_type": "code",
   "execution_count": 52,
   "id": "beb2b451-8de5-4b8b-aee7-8f3f8b91a16f",
   "metadata": {},
   "outputs": [
    {
     "name": "stdout",
     "output_type": "stream",
     "text": [
      "2.8\n"
     ]
    }
   ],
   "source": [
    "import statistics\n",
    "\n",
    "avgvalue = statistics.mean(My_newlist)\n",
    "print(avgvalue) #Returns average of elements"
   ]
  },
  {
   "cell_type": "code",
   "execution_count": 67,
   "id": "dea3e2f4-5581-420b-9f64-7113b22610a2",
   "metadata": {},
   "outputs": [
    {
     "name": "stdout",
     "output_type": "stream",
     "text": [
      "1\n"
     ]
    }
   ],
   "source": [
    "Mylistintex = My_newlist.index(1,0,3)\n",
    "print(Mylistintex)"
   ]
  },
  {
   "cell_type": "code",
   "execution_count": null,
   "id": "3ddf816d-3fd3-4f75-8913-46e9924d4a36",
   "metadata": {},
   "outputs": [],
   "source": []
  },
  {
   "cell_type": "code",
   "execution_count": null,
   "id": "1c7cb121-e5ab-48c4-81fe-e2689a7de4c0",
   "metadata": {},
   "outputs": [],
   "source": []
  }
 ],
 "metadata": {
  "kernelspec": {
   "display_name": "Python 3 (ipykernel)",
   "language": "python",
   "name": "python3"
  },
  "language_info": {
   "codemirror_mode": {
    "name": "ipython",
    "version": 3
   },
   "file_extension": ".py",
   "mimetype": "text/x-python",
   "name": "python",
   "nbconvert_exporter": "python",
   "pygments_lexer": "ipython3",
   "version": "3.13.5"
  }
 },
 "nbformat": 4,
 "nbformat_minor": 5
}
