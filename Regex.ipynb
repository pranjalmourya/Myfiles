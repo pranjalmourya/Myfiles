{
 "cells": [
  {
   "cell_type": "code",
   "execution_count": 1,
   "id": "0101ac9b-0277-4b64-8102-b25e98b6706a",
   "metadata": {},
   "outputs": [],
   "source": [
    "import re"
   ]
  },
  {
   "cell_type": "code",
   "execution_count": 13,
   "id": "8b66a221-aac3-4354-9ad7-b56d864504ac",
   "metadata": {},
   "outputs": [],
   "source": [
    "text = '''\n",
    "CloudyML contact number is 9999999999, 8888888888, 4586256843, and it's US contact number is (999)-333-7777, (246)-458-2584\n",
    "'''"
   ]
  },
  {
   "cell_type": "code",
   "execution_count": 6,
   "id": "d2a6abdc-6c85-4712-aba9-a90292c8e722",
   "metadata": {},
   "outputs": [
    {
     "name": "stdout",
     "output_type": "stream",
     "text": [
      "['9999999999', '8888888888', '4586256843']\n"
     ]
    }
   ],
   "source": [
    "Pattern = '\\d{10}'\n",
    "Matches = re.findall(Pattern, text)\n",
    "print(Matches)"
   ]
  },
  {
   "cell_type": "code",
   "execution_count": 17,
   "id": "83d401b3-6c7d-4bce-89c6-fa31b742e94a",
   "metadata": {},
   "outputs": [
    {
     "name": "stdout",
     "output_type": "stream",
     "text": [
      "['(999)-333-7777', '(246)-458-2584']\n"
     ]
    }
   ],
   "source": [
    "Pattern = '\\(\\d{3}\\)-\\d{3}-\\d{4}'\n",
    "Matches = re.findall(Pattern, text)\n",
    "print(Matches)"
   ]
  },
  {
   "cell_type": "code",
   "execution_count": 18,
   "id": "1dd96825-9004-4287-8c59-6348df7fdb14",
   "metadata": {},
   "outputs": [
    {
     "name": "stdout",
     "output_type": "stream",
     "text": [
      "['9999999999', '8888888888', '4586256843', '(999)-333-7777', '(246)-458-2584']\n"
     ]
    }
   ],
   "source": [
    "Pattern = '\\d{10}|\\(\\d{3}\\)-\\d{3}-\\d{4}'\n",
    "Matches = re.findall(Pattern, text)\n",
    "print(Matches)"
   ]
  },
  {
   "cell_type": "code",
   "execution_count": 22,
   "id": "31a64314-4e97-45ea-8322-0d135fc724c2",
   "metadata": {},
   "outputs": [
    {
     "name": "stdout",
     "output_type": "stream",
     "text": [
      "Heo Word how are you\n"
     ]
    }
   ],
   "source": [
    "result = re.sub(r'l+', '', \"Hello World how are you\")  # 'Hello-World-how-are-you'\n",
    "print(result)"
   ]
  },
  {
   "cell_type": "code",
   "execution_count": 25,
   "id": "8c7022a0-84ca-4b5e-9de9-9602e2f02f4f",
   "metadata": {},
   "outputs": [
    {
     "name": "stdout",
     "output_type": "stream",
     "text": [
      "<re.Match object; span=(15, 21), match='portal'>\n"
     ]
    }
   ],
   "source": [
    "m = re.search(r'portal', 'GeeksforGeeks: portal for geeks')\n",
    "#if m:\n",
    "print(m) "
   ]
  },
  {
   "cell_type": "code",
   "execution_count": 26,
   "id": "1ca12462-87d4-4d8d-8101-e214ce091d7f",
   "metadata": {},
   "outputs": [],
   "source": [
    "text = '''\n",
    "john.doe@example.com\n",
    "alice@workplace.org\n",
    "test123@gmail.net\n",
    "NotAnEmail@example\n",
    "'''"
   ]
  },
  {
   "cell_type": "code",
   "execution_count": 74,
   "id": "3935b5d3-bd50-4676-9203-be9d71718172",
   "metadata": {},
   "outputs": [
    {
     "name": "stdout",
     "output_type": "stream",
     "text": [
      "['john.doe@example.com', 'alice@workplace.org', 'test123@gmail.net']\n"
     ]
    }
   ],
   "source": [
    "pattern = '([a-z]*.[a-z0-9]*@[a-z]*\\.[a-zA-Z]*[^\\s])'\n",
    "matches = re.findall(pattern, text)\n",
    "print(matches)"
   ]
  },
  {
   "cell_type": "code",
   "execution_count": 69,
   "id": "dd3849c1-186a-482c-9dc6-dfb98f7306bc",
   "metadata": {},
   "outputs": [],
   "source": [
    "datetext = '''\n",
    "15-07-2025\n",
    "Final deadline: 03/12/2025\n",
    "Event on 2025/07/15\n",
    "Birthdate: 09-11-1992\n",
    "'''"
   ]
  },
  {
   "cell_type": "code",
   "execution_count": 78,
   "id": "a2f14378-ff18-4ed0-8cff-58e63720af3a",
   "metadata": {},
   "outputs": [
    {
     "name": "stdout",
     "output_type": "stream",
     "text": [
      "['15-07-2025', '03/12/2025', '09-11-1992']\n"
     ]
    }
   ],
   "source": [
    "pattern = '\\d{2}[-/]\\d{2}[-/]\\d{4}'\n",
    "matches = re.findall(pattern, datetext)\n",
    "print(matches)"
   ]
  },
  {
   "cell_type": "code",
   "execution_count": 80,
   "id": "52552613-510d-424d-b387-f5b046124e51",
   "metadata": {},
   "outputs": [],
   "source": [
    "#3. Find valid Indian mobile numbers (+91-xxxxxxxxxx)\n",
    "\n",
    "Mobilenumber = '''\n",
    "+91-9876543210\n",
    "987-654-3210\n",
    "+91-123456789\n",
    "+91-9123456781\n",
    "phone:9876543210\n",
    "'''"
   ]
  },
  {
   "cell_type": "code",
   "execution_count": 95,
   "id": "75e276a1-fac5-4f5b-80be-b6420e100712",
   "metadata": {},
   "outputs": [
    {
     "name": "stdout",
     "output_type": "stream",
     "text": [
      "['+91-9876543210', '+91-9123456781']\n"
     ]
    }
   ],
   "source": [
    "pattern = '\\+91-\\d{10}'\n",
    "matches = re.findall(pattern, Mobilenumber)\n",
    "print(matches)"
   ]
  },
  {
   "cell_type": "code",
   "execution_count": 96,
   "id": "157845e2-90e1-4e48-8fa3-318c9477c84f",
   "metadata": {},
   "outputs": [],
   "source": [
    "#Extract hashtags\n",
    "Text = '''#regex is powerful! #Python #100DaysOfCode\n",
    "No hashtags here.\n",
    "Try #regex101 for practice.'''"
   ]
  },
  {
   "cell_type": "code",
   "execution_count": 101,
   "id": "5343fa40-67a2-434a-a55b-182cd3f50648",
   "metadata": {},
   "outputs": [
    {
     "name": "stdout",
     "output_type": "stream",
     "text": [
      "['#regex ', '#Python ', '#100DaysOfCode', '#regex101 ']\n"
     ]
    }
   ],
   "source": [
    "hashtags = '\\#[a-zA-Z0-9]*[^\\n]'\n",
    "matches = re.findall(hashtags, Text)\n",
    "print(matches)"
   ]
  },
  {
   "cell_type": "code",
   "execution_count": 105,
   "id": "08e927ed-e415-45a6-b604-8e618248cd99",
   "metadata": {},
   "outputs": [],
   "source": [
    "#Find words starting with “data”\n",
    "text = '''\n",
    "database dataframe datacenter\n",
    "metadata datalake\n",
    "data \n",
    "'''"
   ]
  },
  {
   "cell_type": "code",
   "execution_count": 108,
   "id": "afc719b0-b819-42a5-9fdc-28d6a827c057",
   "metadata": {},
   "outputs": [
    {
     "name": "stdout",
     "output_type": "stream",
     "text": [
      "['database', 'dataframe', 'datacenter', 'datalake']\n"
     ]
    }
   ],
   "source": [
    "Starting_with_data = 'data[a-zA-Z]+'\n",
    "matches = re.findall(Starting_with_data, text)\n",
    "print(matches)"
   ]
  },
  {
   "cell_type": "code",
   "execution_count": 109,
   "id": "5c9c5715-fa1c-4451-b93c-cf518afcef6f",
   "metadata": {},
   "outputs": [],
   "source": [
    "#Find words ending with 'ing'\n",
    "text = '''\n",
    "playing coding running\n",
    "stop going plan\n",
    "Walking talking\n",
    "'''"
   ]
  },
  {
   "cell_type": "code",
   "execution_count": 111,
   "id": "4c0d1882-7117-49da-8947-887f6b7dcf72",
   "metadata": {},
   "outputs": [
    {
     "name": "stdout",
     "output_type": "stream",
     "text": [
      "['playing', 'coding', 'running', 'going', 'Walking', 'talking']\n"
     ]
    }
   ],
   "source": [
    "Word_with_ing = '[a-zA-Z]*ing'\n",
    "matches = re.findall(Word_with_ing, text)\n",
    "print(matches)"
   ]
  },
  {
   "cell_type": "code",
   "execution_count": 112,
   "id": "bb18a0e3-88fd-488a-81b8-ed2c8a35e6f8",
   "metadata": {},
   "outputs": [],
   "source": [
    "#Extract all numbers (integers and decimals)\n",
    "text = '''\n",
    "Total: 245.67 units, 300 items, 0.99 per unit\n",
    "Expected: 1000 or 3.14159\n",
    "\n",
    "'''"
   ]
  },
  {
   "cell_type": "code",
   "execution_count": 127,
   "id": "19cb5f76-d21f-4827-95ba-a329826d902c",
   "metadata": {},
   "outputs": [
    {
     "name": "stdout",
     "output_type": "stream",
     "text": [
      "['245.67', '300', '0.99', '1000', '3.14159']\n"
     ]
    }
   ],
   "source": [
    "numbers = '[0-9]*\\.[0-9]*|\\d+'\n",
    "matches = re.findall(numbers, text)\n",
    "print(matches)"
   ]
  },
  {
   "cell_type": "code",
   "execution_count": null,
   "id": "2d0b0b92-44c1-4a66-9a92-59c6e11fb5ee",
   "metadata": {},
   "outputs": [],
   "source": []
  }
 ],
 "metadata": {
  "kernelspec": {
   "display_name": "Python 3 (ipykernel)",
   "language": "python",
   "name": "python3"
  },
  "language_info": {
   "codemirror_mode": {
    "name": "ipython",
    "version": 3
   },
   "file_extension": ".py",
   "mimetype": "text/x-python",
   "name": "python",
   "nbconvert_exporter": "python",
   "pygments_lexer": "ipython3",
   "version": "3.13.5"
  }
 },
 "nbformat": 4,
 "nbformat_minor": 5
}
