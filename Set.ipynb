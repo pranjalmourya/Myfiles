{
 "cells": [
  {
   "cell_type": "code",
   "execution_count": 21,
   "id": "326e60e1-8fdc-4fc2-b679-836cfa8dd819",
   "metadata": {},
   "outputs": [
    {
     "name": "stdout",
     "output_type": "stream",
     "text": [
      "{1.2, 2, 1, 4, 5, 3, 7, 8} {8, 5, 6, 7}\n",
      "{1.2, 2, 1, 4, 5, 3, 7, 8, 6}\n"
     ]
    }
   ],
   "source": [
    "Sets = {1.2,1,2,5,7,4,8,3}\n",
    "Sets2 = {6,5,6,7,5,6,8}\n",
    "print(Sets,Sets2)\n",
    "\n",
    "Set3 = Sets.union(Sets2)\n",
    "print(Set3)"
   ]
  },
  {
   "cell_type": "code",
   "execution_count": 22,
   "id": "984459e6-fcf2-4986-8ceb-82f7336b6de8",
   "metadata": {},
   "outputs": [],
   "source": [
    "Sets.add(7.5) #Adds an element to the set"
   ]
  },
  {
   "cell_type": "code",
   "execution_count": 23,
   "id": "4b477636-9f23-467a-be20-b6206d0da689",
   "metadata": {},
   "outputs": [
    {
     "name": "stdout",
     "output_type": "stream",
     "text": [
      "{0.6, 1.2, 2, 1, 4, 5, 3, 7, 8, 7.5, 4.5, 0.78}\n"
     ]
    }
   ],
   "source": [
    "Sets.update([4.5,.6,.78])\n",
    "print(Sets)  #Adds multiple elements (from list, tuple, etc.)"
   ]
  },
  {
   "cell_type": "code",
   "execution_count": 26,
   "id": "9c71c49e-8ab7-4e56-a744-5045b198cf6f",
   "metadata": {},
   "outputs": [
    {
     "name": "stdout",
     "output_type": "stream",
     "text": [
      "{1.2, 2, 1, 4, 5, 3, 7, 8, 7.5, 4.5, 0.78}\n"
     ]
    }
   ],
   "source": [
    "Sets.remove(0.6)\n",
    "print(Sets) #Removes the specified element (raises error if not found)"
   ]
  },
  {
   "cell_type": "code",
   "execution_count": 27,
   "id": "7642ad59-bbf8-4248-b134-7e9b1db9d380",
   "metadata": {},
   "outputs": [
    {
     "name": "stdout",
     "output_type": "stream",
     "text": [
      "{1.2, 2, 1, 4, 5, 3, 7, 8, 7.5, 0.78}\n"
     ]
    }
   ],
   "source": [
    "Sets.discard(4.5)\n",
    "print(Sets)  #Removes the specified element (no error if not found)"
   ]
  },
  {
   "cell_type": "code",
   "execution_count": 35,
   "id": "0bbe7278-d7ef-4b6b-a996-73ad0f863c65",
   "metadata": {},
   "outputs": [
    {
     "name": "stdout",
     "output_type": "stream",
     "text": [
      "{1, 4, 5, 3, 7, 8, 7.5, 0.78}\n",
      "{4, 5, 3, 7, 8, 7.5, 0.78}\n"
     ]
    }
   ],
   "source": [
    "print(Sets)\n",
    "Sets.pop()\n",
    "print(Sets)"
   ]
  },
  {
   "cell_type": "code",
   "execution_count": 3,
   "id": "bf98f231-216e-4aaa-bd8b-11755882f4e8",
   "metadata": {},
   "outputs": [
    {
     "name": "stdout",
     "output_type": "stream",
     "text": [
      "<class 'set'>\n"
     ]
    }
   ],
   "source": [
    "A = {1, 2, 3, 4}\n",
    "B = {3, 4, 5, 6}\n",
    "print(type(A))"
   ]
  },
  {
   "cell_type": "code",
   "execution_count": 8,
   "id": "10027037-27cb-48de-9f57-df582cdab103",
   "metadata": {},
   "outputs": [
    {
     "name": "stdout",
     "output_type": "stream",
     "text": [
      "{1, 2, 3, 4, 5, 6}\n"
     ]
    }
   ],
   "source": [
    "print(A.union(B)) #Returns a set containing all unique elements from all sets\n"
   ]
  },
  {
   "cell_type": "code",
   "execution_count": 11,
   "id": "b75d1562-5fd9-423e-8668-23cbbb7cf71a",
   "metadata": {},
   "outputs": [
    {
     "name": "stdout",
     "output_type": "stream",
     "text": [
      "{3, 4}\n"
     ]
    }
   ],
   "source": [
    "print(A.intersection(B)) #Returns a set of common elements"
   ]
  },
  {
   "cell_type": "code",
   "execution_count": 12,
   "id": "8c1d855c-461f-4352-b318-d1467484cb15",
   "metadata": {},
   "outputs": [
    {
     "name": "stdout",
     "output_type": "stream",
     "text": [
      "{1, 2}\n"
     ]
    }
   ],
   "source": [
    "print(A.difference(B)) #Returns a set with elements in the first set but not in others"
   ]
  },
  {
   "cell_type": "code",
   "execution_count": 13,
   "id": "f2da26b0-7ab3-4f35-8b0a-f411a6c00c2e",
   "metadata": {},
   "outputs": [
    {
     "name": "stdout",
     "output_type": "stream",
     "text": [
      "{1, 2, 5, 6}\n"
     ]
    }
   ],
   "source": [
    "print(A.symmetric_difference(B))"
   ]
  },
  {
   "cell_type": "code",
   "execution_count": 15,
   "id": "dc7b085a-1c54-4d72-9c2f-cb9db19a6a37",
   "metadata": {},
   "outputs": [
    {
     "name": "stdout",
     "output_type": "stream",
     "text": [
      "False\n"
     ]
    }
   ],
   "source": [
    "print(A.issubset(B))   #Returns True if all elements of the set are in another"
   ]
  },
  {
   "cell_type": "code",
   "execution_count": 17,
   "id": "16cf8f25-f24f-437c-9327-7f072ce45cfa",
   "metadata": {},
   "outputs": [
    {
     "name": "stdout",
     "output_type": "stream",
     "text": [
      "False\n"
     ]
    }
   ],
   "source": [
    "print(A.issuperset(B)) #Returns True if the set contains all elements of another"
   ]
  },
  {
   "cell_type": "code",
   "execution_count": 18,
   "id": "78a8a5aa-bfe4-4d75-a674-d63de962bdc8",
   "metadata": {},
   "outputs": [
    {
     "name": "stdout",
     "output_type": "stream",
     "text": [
      "False\n"
     ]
    }
   ],
   "source": [
    "print(A.isdisjoint(B)) #Returns True if two sets have no elements in common"
   ]
  },
  {
   "cell_type": "code",
   "execution_count": null,
   "id": "8bc313c7-0df4-4c73-b8ce-ec30397e7656",
   "metadata": {},
   "outputs": [],
   "source": []
  }
 ],
 "metadata": {
  "kernelspec": {
   "display_name": "Python 3 (ipykernel)",
   "language": "python",
   "name": "python3"
  },
  "language_info": {
   "codemirror_mode": {
    "name": "ipython",
    "version": 3
   },
   "file_extension": ".py",
   "mimetype": "text/x-python",
   "name": "python",
   "nbconvert_exporter": "python",
   "pygments_lexer": "ipython3",
   "version": "3.13.5"
  }
 },
 "nbformat": 4,
 "nbformat_minor": 5
}
