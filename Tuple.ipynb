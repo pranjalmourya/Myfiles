{
 "cells": [
  {
   "cell_type": "code",
   "execution_count": 30,
   "id": "2b768977-6cb9-4a91-a3fe-5bce93058d39",
   "metadata": {},
   "outputs": [],
   "source": [
    "Tuple = (1,2,3,4,3,5,3)\n"
   ]
  },
  {
   "cell_type": "code",
   "execution_count": 34,
   "id": "bb34f5f1-f8e4-417d-87d0-7fdcb17a2bab",
   "metadata": {},
   "outputs": [
    {
     "name": "stdout",
     "output_type": "stream",
     "text": [
      "3\n"
     ]
    }
   ],
   "source": [
    "print(Tuple.count(3))"
   ]
  },
  {
   "cell_type": "code",
   "execution_count": 40,
   "id": "5517eacd-fc74-4d8f-b8db-2a1309951817",
   "metadata": {},
   "outputs": [
    {
     "name": "stdout",
     "output_type": "stream",
     "text": [
      "3\n"
     ]
    }
   ],
   "source": [
    "import statistics\n",
    "print(statistics.mean(Tuple))"
   ]
  },
  {
   "cell_type": "code",
   "execution_count": 43,
   "id": "096b28f1-7942-4231-a525-25071f90774c",
   "metadata": {},
   "outputs": [
    {
     "name": "stdout",
     "output_type": "stream",
     "text": [
      "5\n"
     ]
    }
   ],
   "source": [
    "print(Tuple.index(5))"
   ]
  },
  {
   "cell_type": "code",
   "execution_count": null,
   "id": "f0da549f-ff89-4b1b-9d28-71506e6fac41",
   "metadata": {},
   "outputs": [],
   "source": []
  }
 ],
 "metadata": {
  "kernelspec": {
   "display_name": "Python 3 (ipykernel)",
   "language": "python",
   "name": "python3"
  },
  "language_info": {
   "codemirror_mode": {
    "name": "ipython",
    "version": 3
   },
   "file_extension": ".py",
   "mimetype": "text/x-python",
   "name": "python",
   "nbconvert_exporter": "python",
   "pygments_lexer": "ipython3",
   "version": "3.13.5"
  }
 },
 "nbformat": 4,
 "nbformat_minor": 5
}
