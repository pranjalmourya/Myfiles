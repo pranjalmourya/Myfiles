{
 "cells": [
  {
   "cell_type": "code",
   "execution_count": 1,
   "id": "05d0eb6d-bc5f-487c-8015-b256dc9f9f83",
   "metadata": {},
   "outputs": [
    {
     "name": "stdout",
     "output_type": "stream",
     "text": [
      "Defaulting to user installation because normal site-packages is not writeable\n",
      "Requirement already satisfied: pyspark in c:\\users\\ad\\appdata\\roaming\\python\\python313\\site-packages (4.0.1)\n",
      "Requirement already satisfied: py4j==0.10.9.9 in c:\\users\\ad\\appdata\\roaming\\python\\python313\\site-packages (from pyspark) (0.10.9.9)\n",
      "Note: you may need to restart the kernel to use updated packages.\n"
     ]
    }
   ],
   "source": [
    "pip install pyspark"
   ]
  },
  {
   "cell_type": "code",
   "execution_count": 2,
   "id": "d8c766fc-9790-436c-85cb-19d268f1d26e",
   "metadata": {},
   "outputs": [],
   "source": [
    "from pyspark.sql import SparkSession #mport sparkSession class from pysparl Sql module"
   ]
  },
  {
   "cell_type": "code",
   "execution_count": null,
   "id": "7e085f27-e585-43bd-a880-864eec501075",
   "metadata": {},
   "outputs": [],
   "source": [
    "Spark = (\n",
    "    SparkSession\n",
    "    .builder\n",
    "    .appName(\"Learning Pyspark\")\n",
    "    .getOrCreate()\n",
    ")"
   ]
  },
  {
   "cell_type": "code",
   "execution_count": null,
   "id": "c96bf032-a80f-473d-8f3a-e7aaaa6ecdc9",
   "metadata": {},
   "outputs": [],
   "source": [
    "emp_data = (\n",
    "    [\"001\",\"101\",\"John Doe\",\"30\",\"Male\",\"50000\",\"2015-01-01\"],\n",
    "    [\"002\",\"101\",\"Jane Smith\",\"25\",\"Female\",\"45000\",\"2016-02-15\"],\n",
    "    [\"003\",\"102\",\"Bob Brown\",\"35\",\"Male\",\"55000\",\"2014-05-01\"],\n",
    "    [\"004\",\"102\",\"Alice Lee\",\"28\",\"Female\",\"48000\",\"2017-09-30\"],\n",
    "    [\"005\",\"103\",\"Jack Chan\",\"40\",\"Male\",\"60000\",\"2013-04-01\"],\n",
    "    [\"006\",\"103\",\"Jill Wong\",\"32\",\"Female\",\"52000\",\"2018-07-01\"],\n",
    "    [\"007\",\"101\",\"James Johnson\",\"42\",\"Male\",\"70000\",\"2012-03-15\"],\n",
    "    [\"008\",\"102\",\"Kate Kim\",\"29\",\"Female\",\"51000\",\"2019-10-01\"],\n",
    "    [\"009\",\"103\",\"Tom Tan\",\"33\",\"Male\",\"58000\",\"2016-06-01\"],\n",
    "    [\"010\",\"104\",\"Lisa Lee\",\"27\",\"Female\",\"47000\",\"2018-08-01\"],\n",
    "    [\"011\",\"104\",\"David Park\",\"38\",\"Male\",\"65000\",\"2015-11-01\"],\n",
    "    [\"012\",\"105\",\"Susan Chen\",\"31\",\"Female\",\"54000\",\"2017-02-15\"],\n",
    "    [\"013\",\"106\",\"Brian Kim\",\"45\",\"Male\",\"75000\",\"2011-07-01\"],\n",
    "    [\"014\",\"107\",\"Emily Lee\",\"26\",\"Female\",\"46000\",\"2019-01-01\"],\n",
    "    [\"015\",\"106\",\"Michael Lee\",\"37\",\"Male\",\"63000\",\"2014-09-30\"],\n",
    "    [\"016\",\"107\",\"Kelly Zhang\",\"30\",\"Female\",\"49000\",\"2018-04-01\"],\n",
    "    [\"017\",\"105\",\"George Wang\",\"34\",\"Male\",\"57000\",\"2016-03-15\"],\n",
    "    [\"018\",\"104\",\"Nancy Liu\",\"29\",'' ,\"50000\",\"2017-06-01\"],\n",
    "    [\"019\",\"103\",\"Steven Chen\",\"36\",\"Male\",\"62000\",\"2015-08-01\"],\n",
    "    [\"020\",\"102\",\"Grace Kim\",\"32\",\"Female\",\"53000\",\"2018-11-01\"])"
   ]
  },
  {
   "cell_type": "code",
   "execution_count": null,
   "id": "9b79e839-04b4-4280-bbb5-28c94476069f",
   "metadata": {},
   "outputs": [],
   "source": [
    "from pyspark.sql.types import *\n",
    "from datetime import date\n",
    "\n",
    "Schema_emp_data = StructType( [StructField(\"emp_id\",StringType(),True)\\\n",
    "                             ,StructField(\"dept_id\",StringType(),True)\\\n",
    "                             ,StructField(\"emp_name\",StringType(),True)\\\n",
    "                             ,StructField(\"emp_age\",StringType(),True)\\\n",
    "                             ,StructField(\"emp_gender\",StringType(),True)\\\n",
    "                             ,StructField(\"emp_salary\",StringType(),True)\\\n",
    "                             ,StructField(\"emp_join_date\",StringType(),True)\\\n",
    "        ])\n",
    "\n",
    "\n"
   ]
  },
  {
   "cell_type": "code",
   "execution_count": null,
   "id": "cf9e6d9d-66d7-4ebb-902d-9ca9158419e3",
   "metadata": {},
   "outputs": [],
   "source": [
    "emp = Spark.createDataFrame( emp_data, Schema_emp_data)"
   ]
  },
  {
   "cell_type": "code",
   "execution_count": null,
   "id": "39759662-c46d-4201-b6f5-d923d8f2ba78",
   "metadata": {},
   "outputs": [],
   "source": [
    "emp.show()"
   ]
  },
  {
   "cell_type": "code",
   "execution_count": null,
   "id": "2676b266-407b-4600-ab14-7141e9bf01b8",
   "metadata": {},
   "outputs": [],
   "source": []
  },
  {
   "cell_type": "code",
   "execution_count": null,
   "id": "e52c088c-1796-4bd7-92cb-1f15e82cc779",
   "metadata": {},
   "outputs": [],
   "source": [
    "#def list(*nums):\n",
    "nums = (1,2,3,4,4,5,6)\n",
    "  l  = list()\n",
    "\n",
    "  for i in nums:\n",
    "      l.append[i]\n",
    "    print(list)\n",
    "      "
   ]
  },
  {
   "cell_type": "code",
   "execution_count": null,
   "id": "e3e0543b-32c2-4ec7-804f-7f3d1b37695e",
   "metadata": {},
   "outputs": [],
   "source": []
  }
 ],
 "metadata": {
  "kernelspec": {
   "display_name": "Python 3 (ipykernel)",
   "language": "python",
   "name": "python3"
  },
  "language_info": {
   "codemirror_mode": {
    "name": "ipython",
    "version": 3
   },
   "file_extension": ".py",
   "mimetype": "text/x-python",
   "name": "python",
   "nbconvert_exporter": "python",
   "pygments_lexer": "ipython3",
   "version": "3.13.5"
  }
 },
 "nbformat": 4,
 "nbformat_minor": 5
}
