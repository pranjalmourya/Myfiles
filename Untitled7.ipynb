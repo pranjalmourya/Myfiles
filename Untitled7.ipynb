{
 "cells": [
  {
   "cell_type": "code",
   "execution_count": 1,
   "id": "e50268d6-3d18-4831-a31e-b6d083f64fc4",
   "metadata": {},
   "outputs": [
    {
     "name": "stdout",
     "output_type": "stream",
     "text": [
      "Defaulting to user installation because normal site-packages is not writeable\n",
      "Requirement already satisfied: pyspark in c:\\users\\ad\\appdata\\roaming\\python\\python313\\site-packages (4.0.1)\n",
      "Requirement already satisfied: py4j==0.10.9.9 in c:\\users\\ad\\appdata\\roaming\\python\\python313\\site-packages (from pyspark) (0.10.9.9)\n",
      "Note: you may need to restart the kernel to use updated packages.\n"
     ]
    }
   ],
   "source": [
    "pip install pyspark"
   ]
  },
  {
   "cell_type": "code",
   "execution_count": 2,
   "id": "2afa959f-c8f1-4a00-80b6-7c224cc7730c",
   "metadata": {},
   "outputs": [
    {
     "ename": "ImportError",
     "evalue": "cannot import name 'SparkSession' from 'pyspark' (C:\\Users\\ad\\AppData\\Roaming\\Python\\Python313\\site-packages\\pyspark\\__init__.py)",
     "output_type": "error",
     "traceback": [
      "\u001b[1;31m---------------------------------------------------------------------------\u001b[0m",
      "\u001b[1;31mImportError\u001b[0m                               Traceback (most recent call last)",
      "Cell \u001b[1;32mIn[2], line 1\u001b[0m\n\u001b[1;32m----> 1\u001b[0m \u001b[38;5;28;01mfrom\u001b[39;00m\u001b[38;5;250m \u001b[39m\u001b[38;5;21;01mpyspark\u001b[39;00m\u001b[38;5;250m \u001b[39m\u001b[38;5;28;01mimport\u001b[39;00m SparkSession\n",
      "\u001b[1;31mImportError\u001b[0m: cannot import name 'SparkSession' from 'pyspark' (C:\\Users\\ad\\AppData\\Roaming\\Python\\Python313\\site-packages\\pyspark\\__init__.py)"
     ]
    }
   ],
   "source": [
    "from pyspark import SparkSession"
   ]
  },
  {
   "cell_type": "code",
   "execution_count": 3,
   "id": "12f47639-de05-4ffe-9f44-99334e942b12",
   "metadata": {},
   "outputs": [
    {
     "name": "stdout",
     "output_type": "stream",
     "text": [
      "Name: pyspark\n",
      "Version: 4.0.1\n",
      "Summary: Apache Spark Python API\n",
      "Home-page: https://github.com/apache/spark/tree/master/python\n",
      "Author: Spark Developers\n",
      "Author-email: dev@spark.apache.org\n",
      "License: http://www.apache.org/licenses/LICENSE-2.0\n",
      "Location: C:\\Users\\ad\\AppData\\Roaming\\Python\\Python313\\site-packages\n",
      "Requires: py4j\n",
      "Required-by: \n",
      "Note: you may need to restart the kernel to use updated packages.\n"
     ]
    }
   ],
   "source": [
    "pip show pyspark"
   ]
  },
  {
   "cell_type": "code",
   "execution_count": 1,
   "id": "5d0129cc-0658-4c34-8a9e-222942011c69",
   "metadata": {},
   "outputs": [
    {
     "name": "stdout",
     "output_type": "stream",
     "text": [
      "Defaulting to user installation because normal site-packages is not writeable\n",
      "Requirement already satisfied: pyspark in c:\\users\\ad\\appdata\\roaming\\python\\python313\\site-packages (4.0.1)\n",
      "Requirement already satisfied: py4j==0.10.9.9 in c:\\users\\ad\\appdata\\roaming\\python\\python313\\site-packages (from pyspark) (0.10.9.9)\n",
      "Note: you may need to restart the kernel to use updated packages.\n"
     ]
    }
   ],
   "source": [
    "pip install --upgrade pyspark"
   ]
  },
  {
   "cell_type": "code",
   "execution_count": 7,
   "id": "d34dae7c-2e64-4f13-b52c-b1a2ef9fb73b",
   "metadata": {},
   "outputs": [
    {
     "name": "stdout",
     "output_type": "stream",
     "text": [
      "Defaulting to user installation because normal site-packages is not writeable\n",
      "Note: you may need to restart the kernel to use updated packages.\n"
     ]
    },
    {
     "name": "stderr",
     "output_type": "stream",
     "text": [
      "ERROR: Could not find a version that satisfies the requirement SparkSession (from versions: none)\n",
      "ERROR: No matching distribution found for SparkSession\n"
     ]
    }
   ],
   "source": [
    "pip install SparkSession"
   ]
  },
  {
   "cell_type": "code",
   "execution_count": 8,
   "id": "20eb1c05-4d5b-4514-8679-fcc94dd332fd",
   "metadata": {},
   "outputs": [
    {
     "name": "stdout",
     "output_type": "stream",
     "text": [
      "Defaulting to user installation because normal site-packages is not writeableNote: you may need to restart the kernel to use updated packages.\n",
      "\n",
      "Collecting virtualenv\n",
      "  Downloading virtualenv-20.35.4-py3-none-any.whl.metadata (4.6 kB)\n",
      "Collecting distlib<1,>=0.3.7 (from virtualenv)\n",
      "  Downloading distlib-0.4.0-py2.py3-none-any.whl.metadata (5.2 kB)\n",
      "Requirement already satisfied: filelock<4,>=3.12.2 in c:\\programdata\\anaconda3\\lib\\site-packages (from virtualenv) (3.17.0)\n",
      "Requirement already satisfied: platformdirs<5,>=3.9.1 in c:\\programdata\\anaconda3\\lib\\site-packages (from virtualenv) (4.3.7)\n",
      "Downloading virtualenv-20.35.4-py3-none-any.whl (6.0 MB)\n",
      "   ---------------------------------------- 0.0/6.0 MB ? eta -:--:--\n",
      "   ---------- ----------------------------- 1.6/6.0 MB 11.8 MB/s eta 0:00:01\n",
      "   -------------------------- ------------- 3.9/6.0 MB 11.5 MB/s eta 0:00:01\n",
      "   -------------------------------------- - 5.8/6.0 MB 11.5 MB/s eta 0:00:01\n",
      "   ---------------------------------------- 6.0/6.0 MB 10.6 MB/s  0:00:00\n",
      "Downloading distlib-0.4.0-py2.py3-none-any.whl (469 kB)\n",
      "Installing collected packages: distlib, virtualenv\n",
      "\n",
      "   ---------------------------------------- 0/2 [distlib]\n",
      "   ---------------------------------------- 0/2 [distlib]\n",
      "   -------------------- ------------------- 1/2 [virtualenv]\n",
      "   -------------------- ------------------- 1/2 [virtualenv]\n",
      "   -------------------- ------------------- 1/2 [virtualenv]\n",
      "   -------------------- ------------------- 1/2 [virtualenv]\n",
      "   -------------------- ------------------- 1/2 [virtualenv]\n",
      "   -------------------- ------------------- 1/2 [virtualenv]\n",
      "   -------------------- ------------------- 1/2 [virtualenv]\n",
      "   -------------------- ------------------- 1/2 [virtualenv]\n",
      "   -------------------- ------------------- 1/2 [virtualenv]\n",
      "   -------------------- ------------------- 1/2 [virtualenv]\n",
      "   -------------------- ------------------- 1/2 [virtualenv]\n",
      "   -------------------- ------------------- 1/2 [virtualenv]\n",
      "   -------------------- ------------------- 1/2 [virtualenv]\n",
      "   -------------------- ------------------- 1/2 [virtualenv]\n",
      "   -------------------- ------------------- 1/2 [virtualenv]\n",
      "   ---------------------------------------- 2/2 [virtualenv]\n",
      "\n",
      "Successfully installed distlib-0.4.0 virtualenv-20.35.4\n"
     ]
    },
    {
     "name": "stderr",
     "output_type": "stream",
     "text": [
      "  WARNING: The script virtualenv.exe is installed in 'C:\\Users\\ad\\AppData\\Roaming\\Python\\Python313\\Scripts' which is not on PATH.\n",
      "  Consider adding this directory to PATH or, if you prefer to suppress this warning, use --no-warn-script-location.\n"
     ]
    }
   ],
   "source": [
    "pip install virtualenv"
   ]
  },
  {
   "cell_type": "code",
   "execution_count": null,
   "id": "16b4c070-f983-4c7b-a1d8-4921d9943ee0",
   "metadata": {},
   "outputs": [],
   "source": []
  }
 ],
 "metadata": {
  "kernelspec": {
   "display_name": "Python 3 (ipykernel)",
   "language": "python",
   "name": "python3"
  },
  "language_info": {
   "codemirror_mode": {
    "name": "ipython",
    "version": 3
   },
   "file_extension": ".py",
   "mimetype": "text/x-python",
   "name": "python",
   "nbconvert_exporter": "python",
   "pygments_lexer": "ipython3",
   "version": "3.13.5"
  }
 },
 "nbformat": 4,
 "nbformat_minor": 5
}
